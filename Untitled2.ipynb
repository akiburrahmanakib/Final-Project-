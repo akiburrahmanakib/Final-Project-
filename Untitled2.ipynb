{
 "cells": [
  {
   "cell_type": "code",
   "execution_count": null,
   "id": "2a23e258",
   "metadata": {},
   "outputs": [],
   "source": [
    "<!DOCTYPE html>\n",
    "<html>\n",
    "<head>\n",
    "    <title>Weather Forecast</title>\n",
    "</head>\n",
    "<body>\n",
    "    <h2>Enter Weather Parameters</h2>\n",
    "    <form method=\"POST\" action=\"/predict\">\n",
    "        Dew Point: <input type=\"text\" name=\"dew_point\"><br>\n",
    "        Wind Speed: <input type=\"text\" name=\"wind_speed\"><br>\n",
    "        Wind Direction: <input type=\"text\" name=\"wind_dir\"><br>\n",
    "        Temperature: <input type=\"text\" name=\"temp\"><br>\n",
    "        Cloud Cover: <input type=\"text\" name=\"cloud\"><br>\n",
    "        Sea Level Pressure: <input type=\"text\" name=\"pressure\"><br>\n",
    "        Wind Gust: <input type=\"text\" name=\"gust\"><br>\n",
    "        <input type=\"submit\" value=\"Predict\">\n",
    "    </form>\n",
    "    {% if prediction_text %}\n",
    "        <h3>{{ prediction_text }}</h3>\n",
    "    {% endif %}\n",
    "</body>\n",
    "</html>\n"
   ]
  }
 ],
 "metadata": {
  "kernelspec": {
   "display_name": "Python 3 (ipykernel)",
   "language": "python",
   "name": "python3"
  },
  "language_info": {
   "codemirror_mode": {
    "name": "ipython",
    "version": 3
   },
   "file_extension": ".py",
   "mimetype": "text/x-python",
   "name": "python",
   "nbconvert_exporter": "python",
   "pygments_lexer": "ipython3",
   "version": "3.9.12"
  }
 },
 "nbformat": 4,
 "nbformat_minor": 5
}
